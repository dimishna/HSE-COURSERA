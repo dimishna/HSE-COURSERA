{
 "cells": [
  {
   "cell_type": "code",
   "execution_count": 1,
   "metadata": {
    "collapsed": true,
    "pycharm": {
     "name": "#%%\n"
    }
   },
   "outputs": [
    {
     "name": "stdout",
     "output_type": "stream",
     "text": [
      "<class 'pandas.core.frame.DataFrame'>\n",
      "Int64Index: 97230 entries, 0 to 114406\n",
      "Columns: 102 entries, start_time to dire_first_ward_time\n",
      "dtypes: float64(12), int64(90)\n",
      "memory usage: 76.4 MB\n",
      "None\n",
      "start_time                  97230\n",
      "lobby_type                  97230\n",
      "r1_hero                     97230\n",
      "r1_level                    97230\n",
      "r1_xp                       97230\n",
      "                            ...  \n",
      "dire_tpscroll_count         97230\n",
      "dire_boots_count            97230\n",
      "dire_ward_observer_count    97230\n",
      "dire_ward_sentry_count      97230\n",
      "dire_first_ward_time        95404\n",
      "Length: 102, dtype: int64\n"
     ]
    }
   ],
   "source": [
    "import pandas\n",
    "import numpy as np\n",
    "import math\n",
    "from sklearn.ensemble import GradientBoostingClassifier, RandomForestClassifier\n",
    "from sklearn.model_selection import KFold, cross_val_score\n",
    "import datetime\n",
    "\n",
    "train = pandas.read_csv('features.csv', index_col='match_id',sep=',')\n",
    "test = pandas.read_csv('features_test.csv', index_col='match_id',sep=',')\n",
    "train.head()\n",
    "test.head()\n",
    "\n",
    "# Удаление итогов игры\n",
    "train.drop(['duration', 'tower_status_radiant', 'tower_status_dire', 'barracks_status_radiant', 'barracks_status_dire']\n",
    "           , axis=1, inplace=True)\n",
    "\n",
    "# Целевая переменная\n",
    "y_train = train['radiant_win']\n",
    "\n",
    "# Переменные для обучения и тест\n",
    "del train['radiant_win']\n",
    "\n",
    "# Пропуски\n",
    "print(train.info())\n",
    "print(train.count())\n",
    "f = open('text.txt', 'w')\n",
    "for index in train.count():\n",
    "    f.write(str(index) + '\\n')\n",
    "f.close()\n",
    "\n",
    "#Заполнение 0 пропущенных значений\n",
    "X_train_0 = train.fillna(0)\n",
    "X_test_0 = test.fillna(0)\n",
    "\n",
    "#Заполнение пропущенных значений средним\n",
    "X_train_mean = train.fillna(train.mean(axis=0))\n",
    "X_test_mean = test.fillna(test.mean(axis=0))"
   ]
  },
  {
   "cell_type": "markdown",
   "source": [
    "## 1. Градиентный бустинг над деревьями на имеющейся матрице \"объекты-признаки\"\n",
    "### 1.1 Заполнение пропусков нулем"
   ],
   "metadata": {
    "collapsed": false
   }
  },
  {
   "cell_type": "code",
   "execution_count": 2,
   "outputs": [
    {
     "name": "stdout",
     "output_type": "stream",
     "text": [
      "Trees:  10\n",
      "Time spent: 0:00:34.988935\n",
      "[0.66383799 0.66635457 0.66360048 0.66529818 0.66516222]\n",
      "\n",
      "Trees:  20\n",
      "Time spent: 0:01:09.393350\n",
      "[0.68083889 0.68272733 0.67969876 0.6834932  0.6855512 ]\n",
      "\n",
      "Trees:  30\n",
      "Time spent: 0:01:43.197012\n",
      "[0.68892093 0.68934663 0.68712298 0.69180598 0.69283583]\n",
      "\n",
      "Trees:  50\n",
      "Time spent: 0:02:53.971739\n",
      "[0.69627399 0.69747879 0.69470891 0.69921915 0.69979097]\n",
      "\n",
      "Trees:  90\n",
      "Time spent: 0:05:17.220051\n",
      "[0.70428355 0.70489618 0.70314489 0.70636257 0.70710108]\n",
      "\n",
      "Trees:  210\n",
      "Time spent: 0:12:06.620521\n",
      "[0.71280325 0.71332323 0.71319499 0.71585593 0.71541683]\n",
      "\n",
      "\n",
      "scores_log\n",
      "[0.66 0.68 0.69 0.7  0.71 0.71]\n"
     ]
    }
   ],
   "source": [
    "# Разделение выборки для кроссвалидации\n",
    "cv = KFold(n_splits=5, shuffle=True, random_state=42)\n",
    "scores_0 = []\n",
    "# Кол-ва деревьев для модели\n",
    "nums = [10, 20, 30, 50, 90, 210]\n",
    "for n in nums:\n",
    "    print('Trees: ', str(n))\n",
    "    model = GradientBoostingClassifier(n_estimators=n, random_state=42)\n",
    "    start_time = datetime.datetime.now()\n",
    "    model_scores_0 = cross_val_score(model, X_train_0, y_train, cv=cv, scoring='roc_auc')\n",
    "    print('Time spent:', datetime.datetime.now() - start_time)\n",
    "    print(model_scores_0)\n",
    "    scores_0.append(np.mean(model_scores_0))\n",
    "    print('')\n",
    "print('')\n",
    "print('scores_log')\n",
    "print (np.round(scores_0,2))"
   ],
   "metadata": {
    "collapsed": false,
    "pycharm": {
     "name": "#%%\n"
    }
   }
  },
  {
   "cell_type": "markdown",
   "source": [
    "### 1.2 Заполнение пропусков средним"
   ],
   "metadata": {
    "collapsed": false
   }
  },
  {
   "cell_type": "code",
   "execution_count": 3,
   "outputs": [
    {
     "name": "stdout",
     "output_type": "stream",
     "text": [
      "Trees:  10\n",
      "Time spent: 0:00:35.417463\n",
      "[0.6628393  0.6690325  0.65778594 0.66141503 0.66504144]\n",
      "\n",
      "Trees:  20\n",
      "Time spent: 0:01:10.034536\n",
      "[0.6809074  0.68456697 0.67803313 0.68191302 0.68453627]\n",
      "\n",
      "Trees:  30\n",
      "Time spent: 0:01:45.243503\n",
      "[0.68679836 0.69049064 0.68466605 0.68999469 0.69272758]\n",
      "\n",
      "Trees:  50\n",
      "Time spent: 0:02:53.542708\n",
      "[0.69548905 0.69712892 0.69344154 0.69845041 0.70048886]\n",
      "\n",
      "Trees:  90\n",
      "Time spent: 0:05:11.545837\n",
      "[0.70276518 0.70472837 0.70250238 0.70626657 0.70825045]\n",
      "\n",
      "Trees:  210\n",
      "Time spent: 0:11:59.121584\n",
      "[0.71262915 0.71314172 0.71273406 0.71571663 0.71633667]\n",
      "\n",
      "\n",
      "scores_log\n",
      "[0.66 0.68 0.69 0.7  0.7  0.71]\n"
     ]
    }
   ],
   "source": [
    "cv_mean = KFold(n_splits=5, shuffle=True, random_state=42)\n",
    "scores_mean = []\n",
    "for n in nums:\n",
    "    print('Trees: ', str(n))\n",
    "    model_2 = GradientBoostingClassifier(n_estimators=n, random_state=42)\n",
    "    start_time = datetime.datetime.now()\n",
    "    model_scores_mean = cross_val_score(model_2, X_train_mean, y_train, cv=cv_mean, scoring='roc_auc')\n",
    "    print('Time spent:', datetime.datetime.now() - start_time)\n",
    "    print(model_scores_mean)\n",
    "    scores_mean.append(np.mean(model_scores_mean))\n",
    "    print('')\n",
    "print('')\n",
    "print('scores_log')\n",
    "print (np.round(scores_mean,2))"
   ],
   "metadata": {
    "collapsed": false,
    "pycharm": {
     "name": "#%%\n"
    }
   }
  },
  {
   "cell_type": "markdown",
   "source": [
    "## 2. Логистическая регрессия"
   ],
   "metadata": {
    "collapsed": false
   }
  },
  {
   "cell_type": "code",
   "execution_count": 3,
   "outputs": [
    {
     "name": "stdout",
     "output_type": "stream",
     "text": [
      "Parametr C:  1e-05\n",
      "Time spent: 0:00:00.903834\n",
      "[0.69314159 0.6948168  0.69569824 0.69513759 0.6969822 ]\n",
      "\n",
      "Parametr C:  0.0001\n",
      "Time spent: 0:00:00.836017\n",
      "[0.70954847 0.71039283 0.71169451 0.71176631 0.71335968]\n",
      "\n",
      "Parametr C:  0.001\n",
      "Time spent: 0:00:01.190113\n",
      "[0.71449309 0.71577054 0.71625906 0.71697421 0.71831839]\n",
      "\n",
      "Parametr C:  0.01\n",
      "Time spent: 0:00:01.504782\n",
      "[0.71464464 0.71617921 0.71624672 0.71735016 0.7183287 ]\n",
      "\n",
      "Parametr C:  0.1\n",
      "Time spent: 0:00:01.530984\n",
      "[0.71461975 0.71617653 0.71619111 0.71737604 0.71827129]\n",
      "\n",
      "Parametr C:  1\n",
      "Time spent: 0:00:01.626288\n",
      "[0.71461609 0.71617193 0.71618261 0.71737575 0.71826417]\n",
      "\n",
      "Parametr C:  10\n",
      "Time spent: 0:00:01.583365\n",
      "[0.71461633 0.71617159 0.7161817  0.71737581 0.71826403]\n",
      "\n",
      "Parametr C:  100\n",
      "Time spent: 0:00:01.696478\n",
      "[0.71461604 0.71617162 0.71618159 0.7173758  0.718264  ]\n",
      "\n",
      "\n",
      "scores_log\n",
      "[0.695155 0.711352 0.716363 0.71655  0.716527 0.716522 0.716522 0.716522]\n",
      "C:  0.01 score:  0.7165498862352037\n"
     ]
    }
   ],
   "source": [
    "from sklearn.preprocessing import StandardScaler\n",
    "from sklearn.linear_model import LogisticRegression\n",
    "X_train_log = StandardScaler().fit_transform(train.fillna(0))\n",
    "X_test_log = test.fillna(0)\n",
    "cv_log = KFold(n_splits=5, shuffle=True, random_state=42)\n",
    "\n",
    "c_use=[0.00001,0.0001,0.001,0.01,0.1,1,10,100]\n",
    "scores_log=[]\n",
    "for n in c_use:\n",
    "    print('Parametr C: ', str(n))\n",
    "    model_log = LogisticRegression(C=n, random_state=42)\n",
    "    start_time = datetime.datetime.now()\n",
    "    model_scores_log = cross_val_score(model_log, X_train_log, y_train, cv=cv_log, scoring='roc_auc', n_jobs=-1)\n",
    "    print('Time spent:', datetime.datetime.now() - start_time)\n",
    "    print(model_scores_log)\n",
    "    scores_log.append(np.mean(model_scores_log))\n",
    "    print('')\n",
    "print('')\n",
    "print('scores_log')\n",
    "print (np.round(scores_log,6))\n",
    "max_score = max(scores_log)\n",
    "max_score_index = scores_log.index(max_score)\n",
    "print('C: ', c_use[max_score_index], 'score: ', max_score)\n"
   ],
   "metadata": {
    "collapsed": false,
    "pycharm": {
     "name": "#%%\n"
    }
   }
  },
  {
   "cell_type": "code",
   "execution_count": 4,
   "outputs": [
    {
     "name": "stdout",
     "output_type": "stream",
     "text": [
      "Parametr C:  0.01\n",
      "Time spent: 0:00:01.550043\n",
      "[0.7145036  0.71621974 0.71627984 0.71725108 0.71854174]\n",
      "\n",
      "Parametr C:  0.1\n",
      "Time spent: 0:00:01.493833\n",
      "[0.71448111 0.71620877 0.71622672 0.71726946 0.71848302]\n",
      "\n",
      "Parametr C:  1\n",
      "Time spent: 0:00:01.478214\n",
      "[0.71447746 0.71620674 0.71621937 0.71727383 0.71847432]\n",
      "\n",
      "Parametr C:  10\n",
      "Time spent: 0:00:01.398679\n",
      "[0.71447697 0.71620771 0.71621935 0.71727417 0.71847447]\n",
      "\n",
      "Parametr C:  100\n",
      "Time spent: 0:00:01.662047\n",
      "[0.71447697 0.71620728 0.71621932 0.71727431 0.71847421]\n",
      "\n",
      "\n",
      "scores_log_cl:\n",
      "[0.7165592000076536, 0.7165338144534041, 0.7165303443778955, 0.7165305328738455, 0.7165304163651]\n",
      "C:  0.01 score:  0.7165592000076536\n"
     ]
    }
   ],
   "source": [
    "# Выборка для обучения\n",
    "X_train = train.fillna(0)\n",
    "del X_train['lobby_type']\n",
    "for n in range(1, 6):\n",
    "    del X_train['r{}_hero'.format(n)]\n",
    "    del X_train['d{}_hero'.format(n)]\n",
    "scaler = StandardScaler()\n",
    "X_train_log_top = scaler.fit_transform(X_train)\n",
    "\n",
    "# Выборка для теста\n",
    "X_test = test.fillna(0)\n",
    "del X_test['lobby_type']\n",
    "for n in range(1, 6):\n",
    "    del X_test['r{}_hero'.format(n)]\n",
    "    del X_test['d{}_hero'.format(n)]\n",
    "scaler = StandardScaler()\n",
    "X_test = scaler.fit_transform(X_test)\n",
    "\n",
    "cv_kf = KFold(n_splits=5, shuffle=True, random_state=42)\n",
    "\n",
    "c_use=[0.01,0.1,1,10,100]\n",
    "scores_log_cl=[]\n",
    "for n in c_use:\n",
    "    print('Parametr C: ', str(n))\n",
    "    model_log_cl = LogisticRegression(C=n, random_state=42)\n",
    "    start_time = datetime.datetime.now()\n",
    "    model_scores_log_cl = cross_val_score(model_log_cl, X_train_log_top, y_train, cv=cv_kf, scoring='roc_auc', n_jobs=-1)\n",
    "    print('Time spent:', datetime.datetime.now() - start_time)\n",
    "    print(model_scores_log_cl)\n",
    "    scores_log_cl.append(np.mean(model_scores_log_cl))\n",
    "    print('')\n",
    "print('')\n",
    "print('scores_log_cl:')\n",
    "print (scores_log_cl)\n",
    "\n",
    "max_score = max(scores_log_cl)\n",
    "max_score_index = scores_log_cl.index(max_score)\n",
    "print('C: ', c_use[max_score_index], 'score: ', max_score)\n"
   ],
   "metadata": {
    "collapsed": false,
    "pycharm": {
     "name": "#%%\n"
    }
   }
  },
  {
   "cell_type": "code",
   "execution_count": 8,
   "outputs": [
    {
     "name": "stdout",
     "output_type": "stream",
     "text": [
      "Всего героев в игре: 112\n",
      "C = 1e-05\n",
      "[0.69728252 0.69882339 0.69957651 0.69932984 0.70103521]\n",
      "Time spent  0:00:02.757242\n",
      "\n",
      "modeling_radiant\n",
      "[[0.49598206 0.50401794]\n",
      " [0.44759084 0.55240916]\n",
      " [0.54545176 0.45454824]\n",
      " ...\n",
      " [0.59778068 0.40221932]\n",
      " [0.54144285 0.45855715]\n",
      " [0.45560663 0.54439337]]\n",
      "\n",
      "C = 0.0001\n",
      "[0.72365596 0.72407344 0.72458071 0.72596336 0.72684296]\n",
      "Time spent  0:00:02.449781\n",
      "\n",
      "modeling_radiant\n",
      "[[0.44036783 0.55963217]\n",
      " [0.3791194  0.6208806 ]\n",
      " [0.62559981 0.37440019]\n",
      " ...\n",
      " [0.71166352 0.28833648]\n",
      " [0.56233839 0.43766161]\n",
      " [0.45040777 0.54959223]]\n",
      "\n",
      "C = 0.001\n",
      "[0.74472246 0.74668392 0.74398016 0.74886659 0.74736764]\n",
      "Time spent  0:00:03.462358\n",
      "\n",
      "modeling_radiant\n",
      "[[0.26612746 0.73387254]\n",
      " [0.30892166 0.69107834]\n",
      " [0.74264037 0.25735963]\n",
      " ...\n",
      " [0.77034    0.22966   ]\n",
      " [0.49649748 0.50350252]\n",
      " [0.51054876 0.48945124]]\n",
      "\n",
      "C = 0.01\n",
      "[0.74947872 0.75274052 0.74909741 0.75544233 0.75171293]\n",
      "Time spent  0:00:04.894576\n",
      "\n",
      "modeling_radiant\n",
      "[[0.18664013 0.81335987]\n",
      " [0.25709057 0.74290943]\n",
      " [0.79922313 0.20077687]\n",
      " ...\n",
      " [0.77189333 0.22810667]\n",
      " [0.40343661 0.59656339]\n",
      " [0.56160053 0.43839947]]\n",
      "\n",
      "C = 0.1\n",
      "[0.74942816 0.75311003 0.74936624 0.75602577 0.75156397]\n",
      "Time spent  0:00:05.146119\n",
      "\n",
      "modeling_radiant\n",
      "[[0.17650545 0.82349455]\n",
      " [0.24565801 0.75434199]\n",
      " [0.80784247 0.19215753]\n",
      " ...\n",
      " [0.76769435 0.23230565]\n",
      " [0.37368097 0.62631903]\n",
      " [0.57404008 0.42595992]]\n",
      "\n",
      "\n",
      "C:  0.1 score_max:  0.7518988352838227\n",
      "C:  1e-05 score_min:  0.6992094958379548\n"
     ]
    },
    {
     "name": "stderr",
     "output_type": "stream",
     "text": [
      "C:\\Users\\furso\\anaconda3\\lib\\site-packages\\sklearn\\linear_model\\_logistic.py:762: ConvergenceWarning: lbfgs failed to converge (status=1):\n",
      "STOP: TOTAL NO. of ITERATIONS REACHED LIMIT.\n",
      "\n",
      "Increase the number of iterations (max_iter) or scale the data as shown in:\n",
      "    https://scikit-learn.org/stable/modules/preprocessing.html\n",
      "Please also refer to the documentation for alternative solver options:\n",
      "    https://scikit-learn.org/stable/modules/linear_model.html#logistic-regression\n",
      "  n_iter_i = _check_optimize_result(\n"
     ]
    }
   ],
   "source": [
    "from sklearn.preprocessing import StandardScaler\n",
    "from sklearn.linear_model import LogisticRegression\n",
    "\n",
    "heroes = pandas.read_csv('heroes.csv')\n",
    "print('Всего героев в игре:', len(heroes))\n",
    "X_train = train.fillna(0)\n",
    "\n",
    "# N — количество различных героев в выборке\n",
    "X_pick = np.zeros((X_train.shape[0], len(heroes)))\n",
    "\n",
    "for i, match_id in enumerate(X_train.index):\n",
    "    for p in range(5):\n",
    "        X_pick[i, X_train.loc[match_id, 'r%d_hero' % (p+1)]-1] = 1\n",
    "        X_pick[i, X_train.loc[match_id, 'd%d_hero' % (p+1)]-1] = -1\n",
    "\n",
    "\n",
    "X_hero = pandas.DataFrame(X_pick, index=X_train.index)\n",
    "\n",
    "X_test = test.fillna(0)\n",
    "X_pick = np.zeros((X_test.shape[0], len(heroes)))\n",
    "for i, match_id in enumerate(X_test.index):\n",
    "    for p in range(5):\n",
    "        X_pick[i, X_test.loc[match_id, 'r%d_hero' % (p + 1)] - 1] = 1\n",
    "        X_pick[i, X_test.loc[match_id, 'd%d_hero' % (p + 1)] - 1] = -1\n",
    "\n",
    "X_test_hero = pandas.DataFrame(X_pick, index=X_test.index)\n",
    "\n",
    "scaler = StandardScaler()\n",
    "X_train = pandas.DataFrame(scaler.fit_transform(X_train), index=X_train.index)\n",
    "X_test = pandas.DataFrame(scaler.transform(X_test), index=X_test.index)\n",
    "\n",
    "X_train_new = pandas.concat([X_train, X_hero], axis=1)\n",
    "X_test_new = pandas.concat([X_test, X_test_hero], axis=1)\n",
    "\n",
    "cv_kf_new = KFold(n_splits=5, shuffle=True, random_state=42)\n",
    "\n",
    "c_use=[0.00001,0.0001,0.001,0.01,0.1]\n",
    "scores_log_cl_new=[]\n",
    "m_r_scrs=[]\n",
    "for n in c_use:\n",
    "    start_time = datetime.datetime.now()\n",
    "    print('C =', str(n))\n",
    "    model_log_cl_new = LogisticRegression(C=n, random_state=42)\n",
    "    model_scores_new = cross_val_score(model_log_cl_new, X_train_new, y_train, cv=cv_kf_new, scoring='roc_auc', n_jobs=-1)\n",
    "    print(model_scores_new)\n",
    "    print('Time spent ', datetime.datetime.now() - start_time)\n",
    "    scores_log_cl_new.append(np.mean(model_scores_new))\n",
    "    print('')\n",
    "    model_log_cl_new.fit(X_train_new,y_train)\n",
    "    modeling_radiant=model_log_cl_new.predict_proba(X_test_new)\n",
    "    print('modeling_radiant')\n",
    "    print(modeling_radiant)\n",
    "    m_r_scrs.append(modeling_radiant)\n",
    "    print('')\n",
    "print('')\n",
    "max_score_new = max(scores_log_cl_new)\n",
    "max_score_index_new = scores_log_cl_new.index(max_score_new)\n",
    "print('C: ', c_use[max_score_index_new], 'score_max: ', max_score_new)\n",
    "min_score_new = min(scores_log_cl_new)\n",
    "min_score_index_new = scores_log_cl_new.index(min_score_new)\n",
    "print('C: ', c_use[min_score_index_new], 'score_min: ', min_score_new)\n",
    "\n"
   ],
   "metadata": {
    "collapsed": false,
    "pycharm": {
     "name": "#%%\n"
    }
   }
  }
 ],
 "metadata": {
  "kernelspec": {
   "name": "pycharm-1ec7f3ee",
   "language": "python",
   "display_name": "PyCharm (7_week)"
  },
  "language_info": {
   "codemirror_mode": {
    "name": "ipython",
    "version": 2
   },
   "file_extension": ".py",
   "mimetype": "text/x-python",
   "name": "python",
   "nbconvert_exporter": "python",
   "pygments_lexer": "ipython2",
   "version": "2.7.6"
  }
 },
 "nbformat": 4,
 "nbformat_minor": 0
}